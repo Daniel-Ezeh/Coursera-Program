{
 "cells": [
  {
   "cell_type": "code",
   "execution_count": 1,
   "id": "0d010742-d7e2-42f1-93f5-28fb14a8abde",
   "metadata": {
    "tags": []
   },
   "outputs": [],
   "source": [
    "# This is my code"
   ]
  },
  {
   "cell_type": "code",
   "execution_count": 2,
   "id": "6d14d845-e6d3-4208-84e0-063571f66066",
   "metadata": {
    "tags": []
   },
   "outputs": [
    {
     "name": "stdout",
     "output_type": "stream",
     "text": [
      "hello world\n"
     ]
    }
   ],
   "source": [
    "print(\"hello world\")"
   ]
  },
  {
   "cell_type": "code",
   "execution_count": null,
   "id": "3b9731ea-2b6c-4e48-9f50-29347164e22d",
   "metadata": {},
   "outputs": [],
   "source": []
  }
 ],
 "metadata": {
  "kernelspec": {
   "display_name": "Python",
   "language": "python",
   "name": "conda-env-python-py"
  },
  "language_info": {
   "codemirror_mode": {
    "name": "ipython",
    "version": 3
   },
   "file_extension": ".py",
   "mimetype": "text/x-python",
   "name": "python",
   "nbconvert_exporter": "python",
   "pygments_lexer": "ipython3",
   "version": "3.7.12"
  }
 },
 "nbformat": 4,
 "nbformat_minor": 5
}
