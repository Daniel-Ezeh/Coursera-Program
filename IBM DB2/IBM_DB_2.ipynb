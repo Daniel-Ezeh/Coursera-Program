{
 "cells": [
  {
   "cell_type": "code",
   "execution_count": 1,
   "id": "0d010742-d7e2-42f1-93f5-28fb14a8abde",
   "metadata": {
    "tags": []
   },
   "outputs": [],
   "source": [
    "# This is my code"
   ]
  },
  {
   "cell_type": "code",
   "execution_count": 2,
   "id": "6d14d845-e6d3-4208-84e0-063571f66066",
   "metadata": {
    "tags": []
   },
   "outputs": [
    {
     "name": "stdout",
     "output_type": "stream",
     "text": [
      "hello world\n"
     ]
    }
   ],
   "source": [
    "print(\"hello world\")"
   ]
  },
  {
   "cell_type": "code",
   "execution_count": 4,
   "id": "681d609a-1281-4e43-98d0-c8650c05b36f",
   "metadata": {
    "tags": []
   },
   "outputs": [],
   "source": [
    "%load_ext sql"
   ]
  },
  {
   "cell_type": "code",
   "execution_count": null,
   "id": "3b9731ea-2b6c-4e48-9f50-29347164e22d",
   "metadata": {
    "tags": []
   },
   "outputs": [],
   "source": [
    "# Enter the connection string for your Db2 on Cloud database instance below\n",
    "# %sql ibm_db_sa://my-username:my-password@my-hostname:my-port/my-db-name?security=SSL\n",
    "%sql ibm_db_sa://ryh97900:HRGII0IhlDS5MOJt@b0aebb68-94fa-46ec-a1fc-1c999edb6187.c3n41cmd0nqnrk39u98g.databases.appdomain.cloud:31249/bludb?authSource=admin&replicaSet=replset"
   ]
  },
  {
   "cell_type": "code",
   "execution_count": null,
   "id": "5d863287-6e56-4891-a690-6081292ae03b",
   "metadata": {},
   "outputs": [],
   "source": []
  }
 ],
 "metadata": {
  "kernelspec": {
   "display_name": "Python",
   "language": "python",
   "name": "conda-env-python-py"
  },
  "language_info": {
   "codemirror_mode": {
    "name": "ipython",
    "version": 3
   },
   "file_extension": ".py",
   "mimetype": "text/x-python",
   "name": "python",
   "nbconvert_exporter": "python",
   "pygments_lexer": "ipython3",
   "version": "3.7.12"
  }
 },
 "nbformat": 4,
 "nbformat_minor": 5
}
